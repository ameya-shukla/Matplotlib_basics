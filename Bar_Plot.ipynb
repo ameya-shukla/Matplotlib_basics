{
 "cells": [
  {
   "cell_type": "code",
   "execution_count": 1,
   "id": "c1fb7915",
   "metadata": {},
   "outputs": [],
   "source": [
    "import numpy as np\n",
    "import matplotlib.pyplot as plt"
   ]
  },
  {
   "cell_type": "code",
   "execution_count": 48,
   "id": "eb01be52",
   "metadata": {},
   "outputs": [],
   "source": [
    "prod = np.array([\"Mobile Phones\", \"TV\", \"Refrigerators\", \"Laptops\"])\n",
    "sales = np.array([6537860, 4325610, 1223210, 2123120])"
   ]
  },
  {
   "cell_type": "code",
   "execution_count": 49,
   "id": "76763ba0",
   "metadata": {},
   "outputs": [
    {
     "data": {
      "text/plain": [
       "<BarContainer object of 4 artists>"
      ]
     },
     "execution_count": 49,
     "metadata": {},
     "output_type": "execute_result"
    },
    {
     "data": {
      "image/png": "[encoded data removed]",
      "text/plain": [
       "<Figure size 432x288 with 1 Axes>"
      ]
     },
     "metadata": {
      "needs_background": "light"
     },
     "output_type": "display_data"
    }
   ],
   "source": [
    "plt.bar(prod, sales)"
   ]
  },
  {
   "cell_type": "code",
   "execution_count": 50,
   "id": "59a0697e",
   "metadata": {},
   "outputs": [
    {
     "data": {
      "text/plain": [
       "([<matplotlib.axis.YTick at 0x7f9f4c0c50d0>,\n",
       "  <matplotlib.axis.YTick at 0x7f9f4c0bac70>,\n",
       "  <matplotlib.axis.YTick at 0x7f9f4c0b6af0>,\n",
       "  <matplotlib.axis.YTick at 0x7f9f4c0e9cd0>,\n",
       "  <matplotlib.axis.YTick at 0x7f9f509cf220>,\n",
       "  <matplotlib.axis.YTick at 0x7f9f509cf730>,\n",
       "  <matplotlib.axis.YTick at 0x7f9f509cfc40>,\n",
       "  <matplotlib.axis.YTick at 0x7f9f509d1190>],\n",
       " [Text(0, 0, '0M'),\n",
       "  Text(0, 1000000, '1M'),\n",
       "  Text(0, 2000000, '2M'),\n",
       "  Text(0, 3000000, '3M'),\n",
       "  Text(0, 4000000, '4M'),\n",
       "  Text(0, 5000000, '5M'),\n",
       "  Text(0, 6000000, '6M'),\n",
       "  Text(0, 7000000, '7M')])"
      ]
     },
     "execution_count": 50,
     "metadata": {},
     "output_type": "execute_result"
    },
    {
     "data": {
      "image/png": "[encoded data removed]",
      "text/plain": [
       "<Figure size 432x288 with 1 Axes>"
      ]
     },
     "metadata": {
      "needs_background": "light"
     },
     "output_type": "display_data"
    }
   ],
   "source": [
    "plt.bar(prod, sales, width=0.5, color=[\"r\", \"g\", \"lightblue\",\"cyan\"], align=\"center\", edgecolor=\"black\")\n",
    "plt.title(\"Sales Across Different Categories\\n\", fontdict={\"fontsize\":15, \"fontweight\":5, \"color\":\"blue\"})\n",
    "\n",
    "plt.xlabel(\"Product Category\", fontdict={\"fontsize\":10, \"fontweight\":5, \"color\":\"black\"})\n",
    "plt.ylabel(\"Sales\", fontdict={\"fontsize\":10, \"fontweight\":5, \"color\":\"black\"})\n",
    "\n",
    "ticks = np.arange(0, 8000000, 1000000)\n",
    "labels = [\"{}M\".format(i//1000000) for i in ticks]\n",
    "\n",
    "plt.yticks(ticks, labels)"
   ]
  },
  {
   "cell_type": "code",
   "execution_count": 51,
   "id": "4445b76c",
   "metadata": {},
   "outputs": [],
   "source": [
    "mobile_type = np.array([\"Android\", \"iOS\"])\n",
    "mobile_type_sales = np.array([217928.66666666666, 435857.3333333333])"
   ]
  },
  {
   "cell_type": "code",
   "execution_count": 15,
   "id": "02310cbe",
   "metadata": {},
   "outputs": [
    {
     "data": {
      "text/plain": [
       "<BarContainer object of 2 artists>"
      ]
     },
     "execution_count": 15,
     "metadata": {},
     "output_type": "execute_result"
    },
    {
     "data": {
      "image/png": "[encoded data removed]",
      "text/plain": [
       "<Figure size 432x288 with 1 Axes>"
      ]
     },
     "metadata": {
      "needs_background": "light"
     },
     "output_type": "display_data"
    }
   ],
   "source": [
    "plt.bar(mobile_type, mobile_type_sales)"
   ]
  },
  {
   "cell_type": "code",
   "execution_count": null,
   "id": "f30f8be8",
   "metadata": {},
   "outputs": [],
   "source": []
  },
  {
   "cell_type": "code",
   "execution_count": null,
   "id": "6ccc77b0",
   "metadata": {},
   "outputs": [],
   "source": []
  }
 ],
 "metadata": {
  "kernelspec": {
   "display_name": "Python 3",
   "language": "python",
   "name": "python3"
  },
  "language_info": {
   "codemirror_mode": {
    "name": "ipython",
    "version": 3
   },
   "file_extension": ".py",
   "mimetype": "text/x-python",
   "name": "python",
   "nbconvert_exporter": "python",
   "pygments_lexer": "ipython3",
   "version": "3.8.8"
  }
 },
 "nbformat": 4,
 "nbformat_minor": 5
}
